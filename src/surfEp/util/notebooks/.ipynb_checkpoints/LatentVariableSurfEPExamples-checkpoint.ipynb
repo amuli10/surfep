{
 "cells": [
  {
   "cell_type": "markdown",
   "metadata": {},
   "source": [
    "# Import"
   ]
  },
  {
   "cell_type": "code",
   "execution_count": 1,
   "metadata": {
    "execution": {
     "iopub.execute_input": "2020-05-22T18:21:55.410Z",
     "iopub.status.busy": "2020-05-22T18:21:55.405Z",
     "iopub.status.idle": "2020-05-22T18:21:56.075Z",
     "shell.execute_reply": "2020-05-22T18:21:56.067Z"
    }
   },
   "outputs": [],
   "source": [
    "#Requires ASE, scikitlearn, numpy\n",
    "\n",
    "\n",
    "#These next imports are needed to set up the structure:\n",
    "from ase.io import read\n",
    "import numpy as np\n",
    "from ase.visualize import view\n",
    "import copy\n",
    "import matplotlib.pyplot as plt\n",
    "\n",
    "#import surfEP\n",
    "import sys\n",
    "sys.path.append(\"../algorithms\")\n",
    "from surfEP import surfEP"
   ]
  },
  {
   "cell_type": "markdown",
   "metadata": {},
   "source": [
    "# Example 1: A single adsorption energy prediction"
   ]
  },
  {
   "cell_type": "code",
   "execution_count": 2,
   "metadata": {
    "execution": {
     "iopub.execute_input": "2020-05-22T18:21:59.568Z",
     "iopub.status.busy": "2020-05-22T18:21:59.563Z",
     "iopub.status.idle": "2020-05-22T18:21:59.575Z",
     "shell.execute_reply": "2020-05-22T18:21:59.579Z"
    }
   },
   "outputs": [],
   "source": [
    "### Input\n",
    "hostMetal = 'Sc'\n",
    "dopingMetal = 'Pt'\n",
    "adsorbate = 'H'\n",
    "dopingLocations = [0,1,2,4,12]\n",
    "siteType = 'Hollow'\n",
    "adsorptionSiteIndices = [[1,3,4]] \n",
    "surfaceIndicesList = [[0,1,2,3,4,5,6,7,8]]"
   ]
  },
  {
   "cell_type": "code",
   "execution_count": 3,
   "metadata": {
    "execution": {
     "iopub.execute_input": "2020-05-22T18:22:00.472Z",
     "iopub.status.busy": "2020-05-22T18:22:00.469Z",
     "iopub.status.idle": "2020-05-22T18:22:00.478Z",
     "shell.execute_reply": "2020-05-22T18:22:00.493Z"
    }
   },
   "outputs": [
    {
     "data": {
      "text/plain": [
       "<subprocess.Popen at 0x7f891cc545b0>"
      ]
     },
     "execution_count": 3,
     "metadata": {},
     "output_type": "execute_result"
    }
   ],
   "source": [
    "### Set up and view structure\n",
    "# Import host metal structure\n",
    "slab = read('../data/HostStructures/POSCAR_'+hostMetal)\n",
    "# Dope in metal\n",
    "symbols = np.array(slab.get_chemical_symbols())\n",
    "symbols[dopingLocations] = dopingMetal\n",
    "slab.set_chemical_symbols(symbols)\n",
    "\n",
    "### Note: these next lines are not needed to make the prediction; they just help visualize the surface and site.\n",
    "view(slab)"
   ]
  },
  {
   "cell_type": "code",
   "execution_count": 9,
   "metadata": {
    "execution": {
     "iopub.execute_input": "2020-05-22T18:22:16.707Z",
     "iopub.status.busy": "2020-05-22T18:22:16.703Z",
     "iopub.status.idle": "2020-05-22T18:22:16.759Z",
     "shell.execute_reply": "2020-05-22T18:22:16.764Z"
    }
   },
   "outputs": [
    {
     "name": "stdout",
     "output_type": "stream",
     "text": [
      "Predicted adsorption energy: -2.6381036541646283\n"
     ]
    }
   ],
   "source": [
    "### Predict adsorption energy\n",
    "adsPredictor = surfEP(verbose=False,jsonDirectory ='../data/JSONFiles/',elementDataDirectory='../data/')\n",
    "predAdsList = adsPredictor.atomsToAds([slab] ,[adsorbate],siteType,[adsorptionSiteIndices], surfaceIndicesList)\n",
    "print('Predicted adsorption energy:', predAdsList[0][0][0])\n"
   ]
  },
  {
   "cell_type": "markdown",
   "metadata": {},
   "source": [
    "# Example 2: A set of adsorption energy predictions\n",
    "- Choose a host metal, doping locations, and two hollow sites. Loop over all dopants.\n",
    "- Output: outermost index is over surfaces, next index is over adsorbates, innermost index is over sites."
   ]
  },
  {
   "cell_type": "code",
   "execution_count": 10,
   "metadata": {
    "execution": {
     "iopub.execute_input": "2020-05-22T18:22:18.762Z",
     "iopub.status.busy": "2020-05-22T18:22:18.757Z",
     "iopub.status.idle": "2020-05-22T18:22:18.766Z",
     "shell.execute_reply": "2020-05-22T18:22:18.770Z"
    }
   },
   "outputs": [],
   "source": [
    "### Input\n",
    "hostMetal = 'Ag' # can be any of: 'Cu','Ag','Au','Ni','Pt','Pd','Co','Rh','Ir','Ru','Os','Re','Ti','Zr','Hf','Sc'\n",
    "dopingMetals = ['Cu','Ag','Au','Ni','Pt','Pd','Co','Rh','Ir','Fe','Ru','Os','Mn','Re','Cr','Mo','W','V','Ta','Ti','Zr','Hf','Sc']\n",
    "adsorbateList = ['N', 'O']\n",
    "dopingLocations = [0,1,2,4,12]\n",
    "siteType = 'Hollow'\n",
    "adsorptionSiteIndicesList = [ [[1,3,4],[4,6,7]] for metal in dopingMetals]\n",
    "surfaceIndicesList = [[0,1,2,3,4,5,6,7,8] for metal in dopingMetals] #[[0,1,2,3,4,5,6,7,8] for metal in dopingMetals]"
   ]
  },
  {
   "cell_type": "code",
   "execution_count": 11,
   "metadata": {
    "execution": {
     "iopub.execute_input": "2020-05-22T18:22:19.821Z",
     "iopub.status.busy": "2020-05-22T18:22:19.817Z",
     "iopub.status.idle": "2020-05-22T18:22:19.826Z",
     "shell.execute_reply": "2020-05-22T18:22:19.832Z"
    }
   },
   "outputs": [],
   "source": [
    "### Set up structures \n",
    "# Import host metal structure\n",
    "slab = read('../data/HostStructures/POSCAR_'+hostMetal)\n",
    "# Dope in metal\n",
    "allSlabs = []\n",
    "for dopingMetal in dopingMetals:\n",
    "    dopedSlab = copy.deepcopy(slab)\n",
    "    symbols = np.array(dopedSlab.get_chemical_symbols())\n",
    "    symbols[dopingLocations] = dopingMetal\n",
    "    dopedSlab.set_chemical_symbols(symbols)\n",
    "    allSlabs.append(dopedSlab)\n",
    "\n",
    "# view(allSlabs[3])"
   ]
  },
  {
   "cell_type": "code",
   "execution_count": null,
   "metadata": {
    "execution": {
     "iopub.execute_input": "2020-05-22T18:22:20.904Z",
     "iopub.status.busy": "2020-05-22T18:22:20.900Z",
     "iopub.status.idle": "2020-05-22T18:22:21.840Z",
     "shell.execute_reply": "2020-05-22T18:22:21.835Z"
    }
   },
   "outputs": [],
   "source": [
    "### Predict adsorption energies\n",
    "adsPredictor = surfEP(verbose=False,jsonDirectory ='../data/JSONFiles/')\n",
    "predAdsList,descripList = adsPredictor.atomsToAds(allSlabs, adsorbateList,siteType,adsorptionSiteIndicesList, surfaceIndicesList, returnDescriptions=True)"
   ]
  },
  {
   "cell_type": "code",
   "execution_count": null,
   "metadata": {
    "execution": {
     "iopub.execute_input": "2020-05-22T18:22:22.035Z",
     "iopub.status.busy": "2020-05-22T18:22:22.032Z",
     "iopub.status.idle": "2020-05-22T18:22:22.185Z",
     "shell.execute_reply": "2020-05-22T18:22:22.194Z"
    }
   },
   "outputs": [],
   "source": [
    "### Plot all adsorption energies\n",
    "### To see some information on what each prediction corresponds to, examine descripList\n",
    "predAdsEnNListFlat = [item for sublist in np.array(predAdsList)[:,0] for item in sublist]\n",
    "predAdsEnOListFlat = [item for sublist in np.array(predAdsList)[:,1] for item in sublist]\n",
    "plt.plot(range(len(predAdsEnNListFlat)),predAdsEnNListFlat,alpha=0.66)\n",
    "plt.plot(range(len(predAdsEnOListFlat)),predAdsEnOListFlat,alpha=0.66)\n",
    "plt.xlabel('Site')\n",
    "plt.ylabel('Adsorption Energy (eV)')\n",
    "plt.legend(['N','O'])\n",
    "plt.show()"
   ]
  },
  {
   "cell_type": "code",
   "execution_count": null,
   "metadata": {
    "execution": {
     "iopub.execute_input": "2020-05-22T18:22:23.587Z",
     "iopub.status.busy": "2020-05-22T18:22:23.583Z",
     "iopub.status.idle": "2020-05-22T18:22:23.715Z",
     "shell.execute_reply": "2020-05-22T18:22:23.725Z"
    }
   },
   "outputs": [],
   "source": [
    "### Compare the two sites.\n",
    "#Just N in first site:\n",
    "predAdsEnNFirstSite = np.array(predAdsList)[:,0,0]\n",
    "#Just N in second site:\n",
    "predAdsEnNSecondSite = np.array(predAdsList)[:,0,1]\n",
    "plt.scatter(predAdsEnNFirstSite,predAdsEnNSecondSite)\n",
    "plt.xlabel('Adsorption Energy in First Site (eV)')\n",
    "plt.ylabel('Adsorption Energy in Second Site (eV)')\n",
    "plt.show()"
   ]
  },
  {
   "cell_type": "code",
   "execution_count": null,
   "metadata": {},
   "outputs": [],
   "source": []
  }
 ],
 "metadata": {
  "kernelspec": {
   "display_name": "Python 3",
   "language": "python",
   "name": "python3"
  },
  "language_info": {
   "codemirror_mode": {
    "name": "ipython",
    "version": 3
   },
   "file_extension": ".py",
   "mimetype": "text/x-python",
   "name": "python",
   "nbconvert_exporter": "python",
   "pygments_lexer": "ipython3",
   "version": "3.8.2"
  },
  "nteract": {
   "version": "0.23.1"
  }
 },
 "nbformat": 4,
 "nbformat_minor": 2
}
